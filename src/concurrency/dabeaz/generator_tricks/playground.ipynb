{
 "cells": [
  {
   "cell_type": "code",
   "execution_count": 1,
   "id": "fe13432c",
   "metadata": {},
   "outputs": [],
   "source": [
    "import sys\n",
    "\n",
    "sys.path.append(\"../..\")"
   ]
  },
  {
   "cell_type": "code",
   "execution_count": 2,
   "id": "c451592c",
   "metadata": {},
   "outputs": [
    {
     "data": {
      "text/plain": [
       "1"
      ]
     },
     "execution_count": 2,
     "metadata": {},
     "output_type": "execute_result"
    }
   ],
   "source": [
    "items = [1, 2, 3, 4, 5]\n",
    "it = iter(items)\n",
    "it.__next__()"
   ]
  },
  {
   "cell_type": "code",
   "execution_count": 3,
   "id": "b4fb67e1",
   "metadata": {},
   "outputs": [
    {
     "data": {
      "text/plain": [
       "2"
      ]
     },
     "execution_count": 3,
     "metadata": {},
     "output_type": "execute_result"
    }
   ],
   "source": [
    "it.__next__()"
   ]
  },
  {
   "cell_type": "code",
   "execution_count": 4,
   "id": "2bad2656",
   "metadata": {},
   "outputs": [
    {
     "name": "stdout",
     "output_type": "stream",
     "text": [
      "3 2 1 Counting down from 3\n",
      "3 2 1 "
     ]
    }
   ],
   "source": [
    "from dabeaz.generator_tricks.countdown import countdown, countdown_generator\n",
    "\n",
    "for i in countdown(3):\n",
    "    print(i, end=\" \")\n",
    "\n",
    "for i in countdown_generator(3):\n",
    "    print(i, end=\" \")"
   ]
  },
  {
   "cell_type": "code",
   "execution_count": 5,
   "id": "569169e7",
   "metadata": {},
   "outputs": [],
   "source": [
    "counter = countdown_generator(10)"
   ]
  },
  {
   "cell_type": "code",
   "execution_count": 6,
   "id": "77ae95fd",
   "metadata": {},
   "outputs": [
    {
     "name": "stdout",
     "output_type": "stream",
     "text": [
      "Counting down from 10\n",
      "10 9 8 7 6 5 4 3 2 1 "
     ]
    }
   ],
   "source": [
    "for i in counter:\n",
    "    print(i, end=\" \")"
   ]
  },
  {
   "cell_type": "code",
   "execution_count": 7,
   "id": "122be0c3",
   "metadata": {},
   "outputs": [],
   "source": [
    "counter = countdown_generator(3)"
   ]
  },
  {
   "cell_type": "code",
   "execution_count": 8,
   "id": "22173958",
   "metadata": {},
   "outputs": [
    {
     "name": "stdout",
     "output_type": "stream",
     "text": [
      "Counting down from 3\n"
     ]
    },
    {
     "data": {
      "text/plain": [
       "3"
      ]
     },
     "execution_count": 8,
     "metadata": {},
     "output_type": "execute_result"
    }
   ],
   "source": [
    "counter.__next__()"
   ]
  },
  {
   "cell_type": "code",
   "execution_count": 9,
   "id": "073006bd",
   "metadata": {},
   "outputs": [
    {
     "data": {
      "text/plain": [
       "2"
      ]
     },
     "execution_count": 9,
     "metadata": {},
     "output_type": "execute_result"
    }
   ],
   "source": [
    "counter.__next__()"
   ]
  },
  {
   "cell_type": "code",
   "execution_count": 10,
   "id": "8528405e",
   "metadata": {},
   "outputs": [
    {
     "name": "stdout",
     "output_type": "stream",
     "text": [
      "Counting down from 3\n"
     ]
    },
    {
     "ename": "StopIteration",
     "evalue": "",
     "output_type": "error",
     "traceback": [
      "\u001b[31m---------------------------------------------------------------------------\u001b[39m",
      "\u001b[31mStopIteration\u001b[39m                             Traceback (most recent call last)",
      "\u001b[36mCell\u001b[39m\u001b[36m \u001b[39m\u001b[32mIn[10]\u001b[39m\u001b[32m, line 5\u001b[39m\n\u001b[32m      3\u001b[39m counter.\u001b[34m__next__\u001b[39m()\n\u001b[32m      4\u001b[39m counter.\u001b[34m__next__\u001b[39m()\n\u001b[32m----> \u001b[39m\u001b[32m5\u001b[39m \u001b[43mcounter\u001b[49m\u001b[43m.\u001b[49m\u001b[34;43m__next__\u001b[39;49m\u001b[43m(\u001b[49m\u001b[43m)\u001b[49m\n",
      "\u001b[31mStopIteration\u001b[39m: "
     ]
    }
   ],
   "source": [
    "counter = countdown_generator(3)\n",
    "counter.__next__()\n",
    "counter.__next__()\n",
    "counter.__next__()\n",
    "counter.__next__()"
   ]
  },
  {
   "cell_type": "code",
   "execution_count": 11,
   "id": "22ded146",
   "metadata": {},
   "outputs": [
    {
     "data": {
      "text/plain": [
       "<generator object <genexpr> at 0x7f5ee04ffe00>"
      ]
     },
     "execution_count": 11,
     "metadata": {},
     "output_type": "execute_result"
    }
   ],
   "source": [
    "a = [1, 2, 3]\n",
    "b = (2**x for x in a)\n",
    "b"
   ]
  },
  {
   "cell_type": "code",
   "execution_count": 12,
   "id": "d34006a4",
   "metadata": {},
   "outputs": [
    {
     "name": "stdout",
     "output_type": "stream",
     "text": [
      "2 4 8 "
     ]
    }
   ],
   "source": [
    "for i in b:\n",
    "    print(i, end=\" \")"
   ]
  },
  {
   "cell_type": "code",
   "execution_count": 13,
   "id": "8314fa60",
   "metadata": {},
   "outputs": [
    {
     "data": {
      "text/plain": [
       "499999999500000000"
      ]
     },
     "execution_count": 13,
     "metadata": {},
     "output_type": "execute_result"
    }
   ],
   "source": [
    "sum(i for i in range(1_000_000_000))"
   ]
  },
  {
   "cell_type": "code",
   "execution_count": null,
   "id": "19ecdc46",
   "metadata": {},
   "outputs": [],
   "source": [
    "sorted()"
   ]
  }
 ],
 "metadata": {
  "kernelspec": {
   "display_name": ".venv",
   "language": "python",
   "name": "python3"
  },
  "language_info": {
   "codemirror_mode": {
    "name": "ipython",
    "version": 3
   },
   "file_extension": ".py",
   "mimetype": "text/x-python",
   "name": "python",
   "nbconvert_exporter": "python",
   "pygments_lexer": "ipython3",
   "version": "3.12.3"
  }
 },
 "nbformat": 4,
 "nbformat_minor": 5
}
